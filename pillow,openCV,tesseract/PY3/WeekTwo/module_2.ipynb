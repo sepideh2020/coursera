
% Default to the notebook output style

    


% Inherit from the specified cell style.




    
\documentclass[11pt]{article}

    
    
    \usepackage[T1]{fontenc}
    % Nicer default font (+ math font) than Computer Modern for most use cases
    \usepackage{mathpazo}

    % Basic figure setup, for now with no caption control since it's done
    % automatically by Pandoc (which extracts ![](path) syntax from Markdown).
    \usepackage{graphicx}
    % We will generate all images so they have a width \maxwidth. This means
    % that they will get their normal width if they fit onto the page, but
    % are scaled down if they would overflow the margins.
    \makeatletter
    \def\maxwidth{\ifdim\Gin@nat@width>\linewidth\linewidth
    \else\Gin@nat@width\fi}
    \makeatother
    \let\Oldincludegraphics\includegraphics
    % Set max figure width to be 80% of text width, for now hardcoded.
    \renewcommand{\includegraphics}[1]{\Oldincludegraphics[width=.8\maxwidth]{#1}}
    % Ensure that by default, figures have no caption (until we provide a
    % proper Figure object with a Caption API and a way to capture that
    % in the conversion process - todo).
    \usepackage{caption}
    \DeclareCaptionLabelFormat{nolabel}{}
    \captionsetup{labelformat=nolabel}

    \usepackage{adjustbox} % Used to constrain images to a maximum size 
    \usepackage{xcolor} % Allow colors to be defined
    \usepackage{enumerate} % Needed for markdown enumerations to work
    \usepackage{geometry} % Used to adjust the document margins
    \usepackage{amsmath} % Equations
    \usepackage{amssymb} % Equations
    \usepackage{textcomp} % defines textquotesingle
    % Hack from http://tex.stackexchange.com/a/47451/13684:
    \AtBeginDocument{%
        \def\PYZsq{\textquotesingle}% Upright quotes in Pygmentized code
    }
    \usepackage{upquote} % Upright quotes for verbatim code
    \usepackage{eurosym} % defines \euro
    \usepackage[mathletters]{ucs} % Extended unicode (utf-8) support
    \usepackage[utf8x]{inputenc} % Allow utf-8 characters in the tex document
    \usepackage{fancyvrb} % verbatim replacement that allows latex
    \usepackage{grffile} % extends the file name processing of package graphics 
                         % to support a larger range 
    % The hyperref package gives us a pdf with properly built
    % internal navigation ('pdf bookmarks' for the table of contents,
    % internal cross-reference links, web links for URLs, etc.)
    \usepackage{hyperref}
    \usepackage{longtable} % longtable support required by pandoc >1.10
    \usepackage{booktabs}  % table support for pandoc > 1.12.2
    \usepackage[inline]{enumitem} % IRkernel/repr support (it uses the enumerate* environment)
    \usepackage[normalem]{ulem} % ulem is needed to support strikethroughs (\sout)
                                % normalem makes italics be italics, not underlines
    \usepackage{mathrsfs}
    

    
    
    % Colors for the hyperref package
    \definecolor{urlcolor}{rgb}{0,.145,.698}
    \definecolor{linkcolor}{rgb}{.71,0.21,0.01}
    \definecolor{citecolor}{rgb}{.12,.54,.11}

    % ANSI colors
    \definecolor{ansi-black}{HTML}{3E424D}
    \definecolor{ansi-black-intense}{HTML}{282C36}
    \definecolor{ansi-red}{HTML}{E75C58}
    \definecolor{ansi-red-intense}{HTML}{B22B31}
    \definecolor{ansi-green}{HTML}{00A250}
    \definecolor{ansi-green-intense}{HTML}{007427}
    \definecolor{ansi-yellow}{HTML}{DDB62B}
    \definecolor{ansi-yellow-intense}{HTML}{B27D12}
    \definecolor{ansi-blue}{HTML}{208FFB}
    \definecolor{ansi-blue-intense}{HTML}{0065CA}
    \definecolor{ansi-magenta}{HTML}{D160C4}
    \definecolor{ansi-magenta-intense}{HTML}{A03196}
    \definecolor{ansi-cyan}{HTML}{60C6C8}
    \definecolor{ansi-cyan-intense}{HTML}{258F8F}
    \definecolor{ansi-white}{HTML}{C5C1B4}
    \definecolor{ansi-white-intense}{HTML}{A1A6B2}
    \definecolor{ansi-default-inverse-fg}{HTML}{FFFFFF}
    \definecolor{ansi-default-inverse-bg}{HTML}{000000}

    % commands and environments needed by pandoc snippets
    % extracted from the output of `pandoc -s`
    \providecommand{\tightlist}{%
      \setlength{\itemsep}{0pt}\setlength{\parskip}{0pt}}
    \DefineVerbatimEnvironment{Highlighting}{Verbatim}{commandchars=\\\{\}}
    % Add ',fontsize=\small' for more characters per line
    \newenvironment{Shaded}{}{}
    \newcommand{\KeywordTok}[1]{\textcolor[rgb]{0.00,0.44,0.13}{\textbf{{#1}}}}
    \newcommand{\DataTypeTok}[1]{\textcolor[rgb]{0.56,0.13,0.00}{{#1}}}
    \newcommand{\DecValTok}[1]{\textcolor[rgb]{0.25,0.63,0.44}{{#1}}}
    \newcommand{\BaseNTok}[1]{\textcolor[rgb]{0.25,0.63,0.44}{{#1}}}
    \newcommand{\FloatTok}[1]{\textcolor[rgb]{0.25,0.63,0.44}{{#1}}}
    \newcommand{\CharTok}[1]{\textcolor[rgb]{0.25,0.44,0.63}{{#1}}}
    \newcommand{\StringTok}[1]{\textcolor[rgb]{0.25,0.44,0.63}{{#1}}}
    \newcommand{\CommentTok}[1]{\textcolor[rgb]{0.38,0.63,0.69}{\textit{{#1}}}}
    \newcommand{\OtherTok}[1]{\textcolor[rgb]{0.00,0.44,0.13}{{#1}}}
    \newcommand{\AlertTok}[1]{\textcolor[rgb]{1.00,0.00,0.00}{\textbf{{#1}}}}
    \newcommand{\FunctionTok}[1]{\textcolor[rgb]{0.02,0.16,0.49}{{#1}}}
    \newcommand{\RegionMarkerTok}[1]{{#1}}
    \newcommand{\ErrorTok}[1]{\textcolor[rgb]{1.00,0.00,0.00}{\textbf{{#1}}}}
    \newcommand{\NormalTok}[1]{{#1}}
    
    % Additional commands for more recent versions of Pandoc
    \newcommand{\ConstantTok}[1]{\textcolor[rgb]{0.53,0.00,0.00}{{#1}}}
    \newcommand{\SpecialCharTok}[1]{\textcolor[rgb]{0.25,0.44,0.63}{{#1}}}
    \newcommand{\VerbatimStringTok}[1]{\textcolor[rgb]{0.25,0.44,0.63}{{#1}}}
    \newcommand{\SpecialStringTok}[1]{\textcolor[rgb]{0.73,0.40,0.53}{{#1}}}
    \newcommand{\ImportTok}[1]{{#1}}
    \newcommand{\DocumentationTok}[1]{\textcolor[rgb]{0.73,0.13,0.13}{\textit{{#1}}}}
    \newcommand{\AnnotationTok}[1]{\textcolor[rgb]{0.38,0.63,0.69}{\textbf{\textit{{#1}}}}}
    \newcommand{\CommentVarTok}[1]{\textcolor[rgb]{0.38,0.63,0.69}{\textbf{\textit{{#1}}}}}
    \newcommand{\VariableTok}[1]{\textcolor[rgb]{0.10,0.09,0.49}{{#1}}}
    \newcommand{\ControlFlowTok}[1]{\textcolor[rgb]{0.00,0.44,0.13}{\textbf{{#1}}}}
    \newcommand{\OperatorTok}[1]{\textcolor[rgb]{0.40,0.40,0.40}{{#1}}}
    \newcommand{\BuiltInTok}[1]{{#1}}
    \newcommand{\ExtensionTok}[1]{{#1}}
    \newcommand{\PreprocessorTok}[1]{\textcolor[rgb]{0.74,0.48,0.00}{{#1}}}
    \newcommand{\AttributeTok}[1]{\textcolor[rgb]{0.49,0.56,0.16}{{#1}}}
    \newcommand{\InformationTok}[1]{\textcolor[rgb]{0.38,0.63,0.69}{\textbf{\textit{{#1}}}}}
    \newcommand{\WarningTok}[1]{\textcolor[rgb]{0.38,0.63,0.69}{\textbf{\textit{{#1}}}}}
    
    
    % Define a nice break command that doesn't care if a line doesn't already
    % exist.
    \def\br{\hspace*{\fill} \\* }
    % Math Jax compatibility definitions
    \def\gt{>}
    \def\lt{<}
    \let\Oldtex\TeX
    \let\Oldlatex\LaTeX
    \renewcommand{\TeX}{\textrm{\Oldtex}}
    \renewcommand{\LaTeX}{\textrm{\Oldlatex}}
    % Document parameters
    % Document title
    \title{module\_2}
    
    
    
    
    

    % Pygments definitions
    
\makeatletter
\def\PY@reset{\let\PY@it=\relax \let\PY@bf=\relax%
    \let\PY@ul=\relax \let\PY@tc=\relax%
    \let\PY@bc=\relax \let\PY@ff=\relax}
\def\PY@tok#1{\csname PY@tok@#1\endcsname}
\def\PY@toks#1+{\ifx\relax#1\empty\else%
    \PY@tok{#1}\expandafter\PY@toks\fi}
\def\PY@do#1{\PY@bc{\PY@tc{\PY@ul{%
    \PY@it{\PY@bf{\PY@ff{#1}}}}}}}
\def\PY#1#2{\PY@reset\PY@toks#1+\relax+\PY@do{#2}}

\expandafter\def\csname PY@tok@w\endcsname{\def\PY@tc##1{\textcolor[rgb]{0.73,0.73,0.73}{##1}}}
\expandafter\def\csname PY@tok@c\endcsname{\let\PY@it=\textit\def\PY@tc##1{\textcolor[rgb]{0.25,0.50,0.50}{##1}}}
\expandafter\def\csname PY@tok@cp\endcsname{\def\PY@tc##1{\textcolor[rgb]{0.74,0.48,0.00}{##1}}}
\expandafter\def\csname PY@tok@k\endcsname{\let\PY@bf=\textbf\def\PY@tc##1{\textcolor[rgb]{0.00,0.50,0.00}{##1}}}
\expandafter\def\csname PY@tok@kp\endcsname{\def\PY@tc##1{\textcolor[rgb]{0.00,0.50,0.00}{##1}}}
\expandafter\def\csname PY@tok@kt\endcsname{\def\PY@tc##1{\textcolor[rgb]{0.69,0.00,0.25}{##1}}}
\expandafter\def\csname PY@tok@o\endcsname{\def\PY@tc##1{\textcolor[rgb]{0.40,0.40,0.40}{##1}}}
\expandafter\def\csname PY@tok@ow\endcsname{\let\PY@bf=\textbf\def\PY@tc##1{\textcolor[rgb]{0.67,0.13,1.00}{##1}}}
\expandafter\def\csname PY@tok@nb\endcsname{\def\PY@tc##1{\textcolor[rgb]{0.00,0.50,0.00}{##1}}}
\expandafter\def\csname PY@tok@nf\endcsname{\def\PY@tc##1{\textcolor[rgb]{0.00,0.00,1.00}{##1}}}
\expandafter\def\csname PY@tok@nc\endcsname{\let\PY@bf=\textbf\def\PY@tc##1{\textcolor[rgb]{0.00,0.00,1.00}{##1}}}
\expandafter\def\csname PY@tok@nn\endcsname{\let\PY@bf=\textbf\def\PY@tc##1{\textcolor[rgb]{0.00,0.00,1.00}{##1}}}
\expandafter\def\csname PY@tok@ne\endcsname{\let\PY@bf=\textbf\def\PY@tc##1{\textcolor[rgb]{0.82,0.25,0.23}{##1}}}
\expandafter\def\csname PY@tok@nv\endcsname{\def\PY@tc##1{\textcolor[rgb]{0.10,0.09,0.49}{##1}}}
\expandafter\def\csname PY@tok@no\endcsname{\def\PY@tc##1{\textcolor[rgb]{0.53,0.00,0.00}{##1}}}
\expandafter\def\csname PY@tok@nl\endcsname{\def\PY@tc##1{\textcolor[rgb]{0.63,0.63,0.00}{##1}}}
\expandafter\def\csname PY@tok@ni\endcsname{\let\PY@bf=\textbf\def\PY@tc##1{\textcolor[rgb]{0.60,0.60,0.60}{##1}}}
\expandafter\def\csname PY@tok@na\endcsname{\def\PY@tc##1{\textcolor[rgb]{0.49,0.56,0.16}{##1}}}
\expandafter\def\csname PY@tok@nt\endcsname{\let\PY@bf=\textbf\def\PY@tc##1{\textcolor[rgb]{0.00,0.50,0.00}{##1}}}
\expandafter\def\csname PY@tok@nd\endcsname{\def\PY@tc##1{\textcolor[rgb]{0.67,0.13,1.00}{##1}}}
\expandafter\def\csname PY@tok@s\endcsname{\def\PY@tc##1{\textcolor[rgb]{0.73,0.13,0.13}{##1}}}
\expandafter\def\csname PY@tok@sd\endcsname{\let\PY@it=\textit\def\PY@tc##1{\textcolor[rgb]{0.73,0.13,0.13}{##1}}}
\expandafter\def\csname PY@tok@si\endcsname{\let\PY@bf=\textbf\def\PY@tc##1{\textcolor[rgb]{0.73,0.40,0.53}{##1}}}
\expandafter\def\csname PY@tok@se\endcsname{\let\PY@bf=\textbf\def\PY@tc##1{\textcolor[rgb]{0.73,0.40,0.13}{##1}}}
\expandafter\def\csname PY@tok@sr\endcsname{\def\PY@tc##1{\textcolor[rgb]{0.73,0.40,0.53}{##1}}}
\expandafter\def\csname PY@tok@ss\endcsname{\def\PY@tc##1{\textcolor[rgb]{0.10,0.09,0.49}{##1}}}
\expandafter\def\csname PY@tok@sx\endcsname{\def\PY@tc##1{\textcolor[rgb]{0.00,0.50,0.00}{##1}}}
\expandafter\def\csname PY@tok@m\endcsname{\def\PY@tc##1{\textcolor[rgb]{0.40,0.40,0.40}{##1}}}
\expandafter\def\csname PY@tok@gh\endcsname{\let\PY@bf=\textbf\def\PY@tc##1{\textcolor[rgb]{0.00,0.00,0.50}{##1}}}
\expandafter\def\csname PY@tok@gu\endcsname{\let\PY@bf=\textbf\def\PY@tc##1{\textcolor[rgb]{0.50,0.00,0.50}{##1}}}
\expandafter\def\csname PY@tok@gd\endcsname{\def\PY@tc##1{\textcolor[rgb]{0.63,0.00,0.00}{##1}}}
\expandafter\def\csname PY@tok@gi\endcsname{\def\PY@tc##1{\textcolor[rgb]{0.00,0.63,0.00}{##1}}}
\expandafter\def\csname PY@tok@gr\endcsname{\def\PY@tc##1{\textcolor[rgb]{1.00,0.00,0.00}{##1}}}
\expandafter\def\csname PY@tok@ge\endcsname{\let\PY@it=\textit}
\expandafter\def\csname PY@tok@gs\endcsname{\let\PY@bf=\textbf}
\expandafter\def\csname PY@tok@gp\endcsname{\let\PY@bf=\textbf\def\PY@tc##1{\textcolor[rgb]{0.00,0.00,0.50}{##1}}}
\expandafter\def\csname PY@tok@go\endcsname{\def\PY@tc##1{\textcolor[rgb]{0.53,0.53,0.53}{##1}}}
\expandafter\def\csname PY@tok@gt\endcsname{\def\PY@tc##1{\textcolor[rgb]{0.00,0.27,0.87}{##1}}}
\expandafter\def\csname PY@tok@err\endcsname{\def\PY@bc##1{\setlength{\fboxsep}{0pt}\fcolorbox[rgb]{1.00,0.00,0.00}{1,1,1}{\strut ##1}}}
\expandafter\def\csname PY@tok@kc\endcsname{\let\PY@bf=\textbf\def\PY@tc##1{\textcolor[rgb]{0.00,0.50,0.00}{##1}}}
\expandafter\def\csname PY@tok@kd\endcsname{\let\PY@bf=\textbf\def\PY@tc##1{\textcolor[rgb]{0.00,0.50,0.00}{##1}}}
\expandafter\def\csname PY@tok@kn\endcsname{\let\PY@bf=\textbf\def\PY@tc##1{\textcolor[rgb]{0.00,0.50,0.00}{##1}}}
\expandafter\def\csname PY@tok@kr\endcsname{\let\PY@bf=\textbf\def\PY@tc##1{\textcolor[rgb]{0.00,0.50,0.00}{##1}}}
\expandafter\def\csname PY@tok@bp\endcsname{\def\PY@tc##1{\textcolor[rgb]{0.00,0.50,0.00}{##1}}}
\expandafter\def\csname PY@tok@fm\endcsname{\def\PY@tc##1{\textcolor[rgb]{0.00,0.00,1.00}{##1}}}
\expandafter\def\csname PY@tok@vc\endcsname{\def\PY@tc##1{\textcolor[rgb]{0.10,0.09,0.49}{##1}}}
\expandafter\def\csname PY@tok@vg\endcsname{\def\PY@tc##1{\textcolor[rgb]{0.10,0.09,0.49}{##1}}}
\expandafter\def\csname PY@tok@vi\endcsname{\def\PY@tc##1{\textcolor[rgb]{0.10,0.09,0.49}{##1}}}
\expandafter\def\csname PY@tok@vm\endcsname{\def\PY@tc##1{\textcolor[rgb]{0.10,0.09,0.49}{##1}}}
\expandafter\def\csname PY@tok@sa\endcsname{\def\PY@tc##1{\textcolor[rgb]{0.73,0.13,0.13}{##1}}}
\expandafter\def\csname PY@tok@sb\endcsname{\def\PY@tc##1{\textcolor[rgb]{0.73,0.13,0.13}{##1}}}
\expandafter\def\csname PY@tok@sc\endcsname{\def\PY@tc##1{\textcolor[rgb]{0.73,0.13,0.13}{##1}}}
\expandafter\def\csname PY@tok@dl\endcsname{\def\PY@tc##1{\textcolor[rgb]{0.73,0.13,0.13}{##1}}}
\expandafter\def\csname PY@tok@s2\endcsname{\def\PY@tc##1{\textcolor[rgb]{0.73,0.13,0.13}{##1}}}
\expandafter\def\csname PY@tok@sh\endcsname{\def\PY@tc##1{\textcolor[rgb]{0.73,0.13,0.13}{##1}}}
\expandafter\def\csname PY@tok@s1\endcsname{\def\PY@tc##1{\textcolor[rgb]{0.73,0.13,0.13}{##1}}}
\expandafter\def\csname PY@tok@mb\endcsname{\def\PY@tc##1{\textcolor[rgb]{0.40,0.40,0.40}{##1}}}
\expandafter\def\csname PY@tok@mf\endcsname{\def\PY@tc##1{\textcolor[rgb]{0.40,0.40,0.40}{##1}}}
\expandafter\def\csname PY@tok@mh\endcsname{\def\PY@tc##1{\textcolor[rgb]{0.40,0.40,0.40}{##1}}}
\expandafter\def\csname PY@tok@mi\endcsname{\def\PY@tc##1{\textcolor[rgb]{0.40,0.40,0.40}{##1}}}
\expandafter\def\csname PY@tok@il\endcsname{\def\PY@tc##1{\textcolor[rgb]{0.40,0.40,0.40}{##1}}}
\expandafter\def\csname PY@tok@mo\endcsname{\def\PY@tc##1{\textcolor[rgb]{0.40,0.40,0.40}{##1}}}
\expandafter\def\csname PY@tok@ch\endcsname{\let\PY@it=\textit\def\PY@tc##1{\textcolor[rgb]{0.25,0.50,0.50}{##1}}}
\expandafter\def\csname PY@tok@cm\endcsname{\let\PY@it=\textit\def\PY@tc##1{\textcolor[rgb]{0.25,0.50,0.50}{##1}}}
\expandafter\def\csname PY@tok@cpf\endcsname{\let\PY@it=\textit\def\PY@tc##1{\textcolor[rgb]{0.25,0.50,0.50}{##1}}}
\expandafter\def\csname PY@tok@c1\endcsname{\let\PY@it=\textit\def\PY@tc##1{\textcolor[rgb]{0.25,0.50,0.50}{##1}}}
\expandafter\def\csname PY@tok@cs\endcsname{\let\PY@it=\textit\def\PY@tc##1{\textcolor[rgb]{0.25,0.50,0.50}{##1}}}

\def\PYZbs{\char`\\}
\def\PYZus{\char`\_}
\def\PYZob{\char`\{}
\def\PYZcb{\char`\}}
\def\PYZca{\char`\^}
\def\PYZam{\char`\&}
\def\PYZlt{\char`\<}
\def\PYZgt{\char`\>}
\def\PYZsh{\char`\#}
\def\PYZpc{\char`\%}
\def\PYZdl{\char`\$}
\def\PYZhy{\char`\-}
\def\PYZsq{\char`\'}
\def\PYZdq{\char`\"}
\def\PYZti{\char`\~}
% for compatibility with earlier versions
\def\PYZat{@}
\def\PYZlb{[}
\def\PYZrb{]}
\makeatother


    % Exact colors from NB
    \definecolor{incolor}{rgb}{0.0, 0.0, 0.5}
    \definecolor{outcolor}{rgb}{0.545, 0.0, 0.0}



    
    % Prevent overflowing lines due to hard-to-break entities
    \sloppy 
    % Setup hyperref package
    \hypersetup{
      breaklinks=true,  % so long urls are correctly broken across lines
      colorlinks=true,
      urlcolor=urlcolor,
      linkcolor=linkcolor,
      citecolor=citecolor,
      }
    % Slightly bigger margins than the latex defaults
    
    \geometry{verbose,tmargin=1in,bmargin=1in,lmargin=1in,rmargin=1in}
    
    

    \begin{document}
    
    
    \maketitle
    
    

    
    \hypertarget{lecture-the-pytesseract-library}{%
\subsection{Lecture: The (Py)Tesseract
Library}\label{lecture-the-pytesseract-library}}

    \begin{Verbatim}[commandchars=\\\{\}]
{\color{incolor}In [{\color{incolor} }]:} \PY{c+c1}{\PYZsh{} We\PYZsq{}re going to start experimenting with tesseract using just a simple image of nice clean text.}
        \PY{c+c1}{\PYZsh{} Lets first import Image from PIL and display the image text.png.}
        \PY{k+kn}{from} \PY{n+nn}{PIL} \PY{k}{import} \PY{n}{Image}
        
        \PY{n}{image} \PY{o}{=} \PY{n}{Image}\PY{o}{.}\PY{n}{open}\PY{p}{(}\PY{l+s+s2}{\PYZdq{}}\PY{l+s+s2}{readonly/text.png}\PY{l+s+s2}{\PYZdq{}}\PY{p}{)}
        \PY{n}{display}\PY{p}{(}\PY{n}{image}\PY{p}{)}
\end{Verbatim}

    \begin{Verbatim}[commandchars=\\\{\}]
{\color{incolor}In [{\color{incolor} }]:} \PY{c+c1}{\PYZsh{} Great, we have a base image of some big clear text}
        \PY{c+c1}{\PYZsh{} Lets import pytesseract and use the dir() fundtion to get a sense of what might be some interesting}
        \PY{c+c1}{\PYZsh{} functions to play with}
        \PY{k+kn}{import} \PY{n+nn}{pytesseract}
        \PY{n+nb}{dir}\PY{p}{(}\PY{n}{pytesseract}\PY{p}{)}
\end{Verbatim}

    \begin{Verbatim}[commandchars=\\\{\}]
{\color{incolor}In [{\color{incolor} }]:} \PY{c+c1}{\PYZsh{} It looks like there are just a handful of interesting functions, and I think image\PYZus{}to\PYZus{}string}
        \PY{c+c1}{\PYZsh{} is probably our best bet. Lets use the help() function to interrogate this a bit more }
        \PY{n}{help}\PY{p}{(}\PY{n}{pytesseract}\PY{o}{.}\PY{n}{image\PYZus{}to\PYZus{}string}\PY{p}{)}
\end{Verbatim}

    \begin{Verbatim}[commandchars=\\\{\}]
{\color{incolor}In [{\color{incolor} }]:} \PY{c+c1}{\PYZsh{} So this function takes an image as the first parameter, then there are a bunch of optional parameters,}
        \PY{c+c1}{\PYZsh{} and it will return the results of the OCR. I think it\PYZsq{}s worth comparing this documentation string}
        \PY{c+c1}{\PYZsh{} with the documentation we were receiving from the PILLOW module. Lets run the help command on the }
        \PY{c+c1}{\PYZsh{} Image resize function()}
        \PY{n}{help}\PY{p}{(}\PY{n}{Image}\PY{o}{.}\PY{n}{Image}\PY{o}{.}\PY{n}{resize}\PY{p}{)}
\end{Verbatim}

    \begin{Verbatim}[commandchars=\\\{\}]
{\color{incolor}In [{\color{incolor} }]:} \PY{c+c1}{\PYZsh{} Notice how the PILLOW function has a bit more information in it. First it\PYZsq{}s using a specific format}
        \PY{c+c1}{\PYZsh{} called reStructuredText, which is similar in intent to document markups such as HTML, the language of}
        \PY{c+c1}{\PYZsh{} the web. The intent is to embed semantics in the documentation itself. For instance, in the resize()}
        \PY{c+c1}{\PYZsh{} function we see the words \PYZdq{}param size\PYZdq{} with colons surrounding it. This allows documentation engines}
        \PY{c+c1}{\PYZsh{} which create web docs from source code to link the parameter to the extended docs about that parameter.}
        \PY{c+c1}{\PYZsh{} In this case the extended docs tell us that the size should be passed as a tuple of width and height.}
        \PY{c+c1}{\PYZsh{} Notice how the docs for image\PYZus{}to\PYZus{}string, for instance, indicate that there is a \PYZdq{}lang\PYZdq{} parameter we can}
        \PY{c+c1}{\PYZsh{} use, but then fail to say anything about what that parameter is for or what its format is.}
        \PY{c+c1}{\PYZsh{}}
        \PY{c+c1}{\PYZsh{} What this really means is that we need to dig deeper. Here\PYZsq{}s a quick hack if you want to look at the}
        \PY{c+c1}{\PYZsh{} source code of a function \PYZhy{}\PYZhy{} you can use the inspect getsource() command and print the results}
        \PY{k+kn}{import} \PY{n+nn}{inspect}
        \PY{n}{src} \PY{o}{=} \PY{n}{inspect}\PY{o}{.}\PY{n}{getsource}\PY{p}{(}\PY{n}{pytesseract}\PY{o}{.}\PY{n}{image\PYZus{}to\PYZus{}string}\PY{p}{)}
        \PY{n+nb}{print}\PY{p}{(}\PY{n}{src}\PY{p}{)}
\end{Verbatim}

    \begin{Verbatim}[commandchars=\\\{\}]
{\color{incolor}In [{\color{incolor} }]:} \PY{c+c1}{\PYZsh{} There\PYZsq{}s actually another way in jupyter, and that\PYZsq{}s to append *two* question marks to the end of}
        \PY{c+c1}{\PYZsh{} a given function or module. Other editors have similar features, and is a great reason to use a }
        \PY{c+c1}{\PYZsh{} software development environment}
        pytesseract.image\PYZus{}to\PYZus{}string\PY{o}{??}
\end{Verbatim}

    \begin{Verbatim}[commandchars=\\\{\}]
{\color{incolor}In [{\color{incolor} }]:} \PY{c+c1}{\PYZsh{} We can see from the source code that there really isn\PYZsq{}t much more information about what the parameters}
        \PY{c+c1}{\PYZsh{} are for this image\PYZus{}to\PYZus{}string function. This is because underneath the pytesseract library is calling a C++}
        \PY{c+c1}{\PYZsh{} library which does all of the hard work, and the author just passes through all of the calls to the }
        \PY{c+c1}{\PYZsh{} underlying tesseract executable. This is a common issue when working with python libraries, and it means}
        \PY{c+c1}{\PYZsh{} we need to do some web sleuthing in order to understand how we can interact with tesseract.}
        \PY{c+c1}{\PYZsh{}}
        \PY{c+c1}{\PYZsh{} In a case like this I just googled \PYZdq{}tesseract command line parameters\PYZdq{} and the first hit was what I was}
        \PY{c+c1}{\PYZsh{} looking for, here\PYZsq{}s the URL: https://tesseract\PYZhy{}ocr.github.io/tessdoc/Command\PYZhy{}Line\PYZhy{}Usage}
        \PY{c+c1}{\PYZsh{}}
        \PY{c+c1}{\PYZsh{} This goes to a wiki page which describes how to call the tesseract executable, and as we read down we see}
        \PY{c+c1}{\PYZsh{} that we can actually have tesseract use multiple languages in its detection, such as English and Hindi, by}
        \PY{c+c1}{\PYZsh{} passing them in as \PYZdq{}eng+hin\PYZdq{}. Very cool. }
\end{Verbatim}

    \begin{Verbatim}[commandchars=\\\{\}]
{\color{incolor}In [{\color{incolor} }]:} \PY{c+c1}{\PYZsh{} One last thing to mention \PYZhy{} the image\PYZus{}to\PYZus{}string() function takes in an \PYZdq{}image\PYZdq{}, but the docs don\PYZsq{}t}
        \PY{c+c1}{\PYZsh{} really describe what this image is underneath. Is it a string to an image file? A PILLOW image?}
        \PY{c+c1}{\PYZsh{} Something else?}
        \PY{c+c1}{\PYZsh{}}
        \PY{c+c1}{\PYZsh{} Again we have to sleuth (and/or experiment) to understand what we should do. If we look at the source}
        \PY{c+c1}{\PYZsh{} code for the pytesseract library, we see that there is a function called run\PYZus{}and\PYZus{}get\PYZus{}output(). Here\PYZsq{}s}
        \PY{c+c1}{\PYZsh{} a link to that function on the author\PYZsq{}s github account:}
        \PY{c+c1}{\PYZsh{} https://github.com/madmaze/pytesseract/blob/d1596f7f59a517ad814b7d810ccdef7d33763221/src/pytesseract.py\PYZsh{}L199}
        \PY{c+c1}{\PYZsh{}}
        \PY{c+c1}{\PYZsh{} In this function we see that one of the first things which happens is the image is saved through}
        \PY{c+c1}{\PYZsh{} the save\PYZus{}image() function. Here\PYZsq{}s that line of code:}
        \PY{c+c1}{\PYZsh{} https://github.com/madmaze/pytesseract/blob/d1596f7f59a517ad814b7d810ccdef7d33763221/src/pytesseract.py\PYZsh{}L116}
        \PY{c+c1}{\PYZsh{}}
        \PY{c+c1}{\PYZsh{} And we see there that another function is called, prepare(image), which actually loads the image as a}
        \PY{c+c1}{\PYZsh{} PILLOW image file. So yes, sending a PIL image file is appropriate use for this function! It sure would}
        \PY{c+c1}{\PYZsh{} have been useful for the author to have included this information in reStructuredText to help us not have}
        \PY{c+c1}{\PYZsh{} to dig through the implementation. But, this is an open source project \PYZhy{}\PYZhy{} maybe you would like to contribute}
        \PY{c+c1}{\PYZsh{} back better documentation?}
        \PY{c+c1}{\PYZsh{}}
        \PY{c+c1}{\PYZsh{} Hint: The doc line we needed was :param image: A PIL Image.Image file or an ndarray of bytes}
        \PY{c+c1}{\PYZsh{}}
        \PY{c+c1}{\PYZsh{} In the end, we often don\PYZsq{}t do this full level of investigation, and we just experiment and try things. It}
        \PY{c+c1}{\PYZsh{} seems likely that a PIL Image.Image would work, given how well known PIL is in the python world. But still,}
        \PY{c+c1}{\PYZsh{} as you explore and use different libraries you\PYZsq{}ll see a breadth of different documentation norms, so it\PYZsq{}s}
        \PY{c+c1}{\PYZsh{} useful to know how to explore the source code. And now that you\PYZsq{}re at the end of this course, you\PYZsq{}ve got}
        \PY{c+c1}{\PYZsh{} the skills to do so!}
        \PY{c+c1}{\PYZsh{}}
        \PY{c+c1}{\PYZsh{} Ok, lets try and run tesseract on this image}
        \PY{n}{text} \PY{o}{=} \PY{n}{pytesseract}\PY{o}{.}\PY{n}{image\PYZus{}to\PYZus{}string}\PY{p}{(}\PY{n}{image}\PY{p}{)}
        \PY{n+nb}{print}\PY{p}{(}\PY{n}{text}\PY{p}{)}
\end{Verbatim}

    \begin{Verbatim}[commandchars=\\\{\}]
{\color{incolor}In [{\color{incolor} }]:} \PY{c+c1}{\PYZsh{} Looks great! We see that the output includes new line characters, and faithfully represents the text}
        \PY{c+c1}{\PYZsh{} but doesn\PYZsq{}t include any special formatting. Lets go on and look at something with a bit more nuance to it.}
\end{Verbatim}

    \hypertarget{more-tesseract}{%
\subsection{More Tesseract}\label{more-tesseract}}

    \begin{Verbatim}[commandchars=\\\{\}]
{\color{incolor}In [{\color{incolor} }]:} \PY{c+c1}{\PYZsh{} In the previous example, we were using a clear, unambiguous image for conversion. Sometimes there will }
        \PY{c+c1}{\PYZsh{} be noise in images you want to OCR, making it difficult to extract the text. Luckily, there are }
        \PY{c+c1}{\PYZsh{} techniques we can use to increase the efficacy of OCR with pytesseract and Pillow.}
        \PY{c+c1}{\PYZsh{}}
        \PY{c+c1}{\PYZsh{} Let\PYZsq{}s use a different image this time, with the same text as before but with added noise in the picture. }
        \PY{c+c1}{\PYZsh{} We can view this image using the following code. }
        \PY{k+kn}{from} \PY{n+nn}{PIL} \PY{k}{import} \PY{n}{Image}
        \PY{n}{img} \PY{o}{=} \PY{n}{Image}\PY{o}{.}\PY{n}{open}\PY{p}{(}\PY{l+s+s2}{\PYZdq{}}\PY{l+s+s2}{readonly/Noisy\PYZus{}OCR.PNG}\PY{l+s+s2}{\PYZdq{}}\PY{p}{)}
        \PY{n}{display}\PY{p}{(}\PY{n}{img}\PY{p}{)}
\end{Verbatim}

    \begin{Verbatim}[commandchars=\\\{\}]
{\color{incolor}In [{\color{incolor} }]:} \PY{c+c1}{\PYZsh{} As you can see, this image had shapes of different opacities behind the text, which can confuse  }
        \PY{c+c1}{\PYZsh{} the tesseract engine. Let\PYZsq{}s see if OCR will work on this noisy image}
        \PY{k+kn}{import} \PY{n+nn}{pytesseract}
        \PY{n}{text} \PY{o}{=} \PY{n}{pytesseract}\PY{o}{.}\PY{n}{image\PYZus{}to\PYZus{}string}\PY{p}{(}\PY{n}{Image}\PY{o}{.}\PY{n}{open}\PY{p}{(}\PY{l+s+s2}{\PYZdq{}}\PY{l+s+s2}{readonly/Noisy\PYZus{}OCR.PNG}\PY{l+s+s2}{\PYZdq{}}\PY{p}{)}\PY{p}{)}
        \PY{n+nb}{print}\PY{p}{(}\PY{n}{text}\PY{p}{)}
\end{Verbatim}

    \begin{Verbatim}[commandchars=\\\{\}]
{\color{incolor}In [{\color{incolor} }]:} \PY{c+c1}{\PYZsh{} This is a bit surprising given how nicely tesseract worked previously! Let\PYZsq{}s experiment on the image }
        \PY{c+c1}{\PYZsh{} using techniqes that will allow for more effective image analysis. First up, lets change the size of}
        \PY{c+c1}{\PYZsh{} the image}
\end{Verbatim}

    \begin{Verbatim}[commandchars=\\\{\}]
{\color{incolor}In [{\color{incolor} }]:} \PY{c+c1}{\PYZsh{} First we will import PIL}
        \PY{k+kn}{import} \PY{n+nn}{PIL} 
        \PY{c+c1}{\PYZsh{} Then set the base width of our image}
        \PY{n}{basewidth} \PY{o}{=} \PY{l+m+mi}{600} 
        \PY{c+c1}{\PYZsh{} Now lets open it}
        \PY{n}{img} \PY{o}{=} \PY{n}{Image}\PY{o}{.}\PY{n}{open}\PY{p}{(}\PY{l+s+s2}{\PYZdq{}}\PY{l+s+s2}{readonly/Noisy\PYZus{}OCR.PNG}\PY{l+s+s2}{\PYZdq{}}\PY{p}{)}
        \PY{c+c1}{\PYZsh{} We want to get the correct aspect ratio, so we can do this by taking the base width and dividing}
        \PY{c+c1}{\PYZsh{} it by the actual width of the image}
        \PY{n}{wpercent} \PY{o}{=} \PY{p}{(}\PY{n}{basewidth} \PY{o}{/} \PY{n+nb}{float}\PY{p}{(}\PY{n}{img}\PY{o}{.}\PY{n}{size}\PY{p}{[}\PY{l+m+mi}{0}\PY{p}{]}\PY{p}{)}\PY{p}{)}
        \PY{c+c1}{\PYZsh{} With that ratio we can just get the appropriate height of the image.}
        \PY{n}{hsize} \PY{o}{=} \PY{n+nb}{int}\PY{p}{(}\PY{p}{(}\PY{n+nb}{float}\PY{p}{(}\PY{n}{img}\PY{o}{.}\PY{n}{size}\PY{p}{[}\PY{l+m+mi}{1}\PY{p}{]}\PY{p}{)} \PY{o}{*} \PY{n+nb}{float}\PY{p}{(}\PY{n}{wpercent}\PY{p}{)}\PY{p}{)}\PY{p}{)}
        \PY{c+c1}{\PYZsh{} Finally, lets resize the image. antialiasing is a specific way of resizing lines to try and make them }
        \PY{c+c1}{\PYZsh{} appear smooth}
        \PY{n}{img} \PY{o}{=} \PY{n}{img}\PY{o}{.}\PY{n}{resize}\PY{p}{(}\PY{p}{(}\PY{n}{basewidth}\PY{p}{,} \PY{n}{hsize}\PY{p}{)}\PY{p}{,} \PY{n}{PIL}\PY{o}{.}\PY{n}{Image}\PY{o}{.}\PY{n}{ANTIALIAS}\PY{p}{)}
        \PY{c+c1}{\PYZsh{} Now lets save this to a file}
        \PY{n}{img}\PY{o}{.}\PY{n}{save}\PY{p}{(}\PY{l+s+s1}{\PYZsq{}}\PY{l+s+s1}{resized\PYZus{}nois.png}\PY{l+s+s1}{\PYZsq{}}\PY{p}{)} \PY{c+c1}{\PYZsh{} save the image as a jpg}
        \PY{c+c1}{\PYZsh{} And finally, lets display it}
        \PY{n}{display}\PY{p}{(}\PY{n}{img}\PY{p}{)}
        \PY{c+c1}{\PYZsh{} and run OCR}
        \PY{n}{text} \PY{o}{=} \PY{n}{pytesseract}\PY{o}{.}\PY{n}{image\PYZus{}to\PYZus{}string}\PY{p}{(}\PY{n}{Image}\PY{o}{.}\PY{n}{open}\PY{p}{(}\PY{l+s+s1}{\PYZsq{}}\PY{l+s+s1}{resized\PYZus{}nois.png}\PY{l+s+s1}{\PYZsq{}}\PY{p}{)}\PY{p}{)} 
        \PY{n+nb}{print}\PY{p}{(}\PY{n}{text}\PY{p}{)}
\end{Verbatim}

    \begin{Verbatim}[commandchars=\\\{\}]
{\color{incolor}In [{\color{incolor} }]:} \PY{c+c1}{\PYZsh{} hrm, no improvement for resizing the image. Let\PYZsq{}s convert the image to greyscale. Converting images }
        \PY{c+c1}{\PYZsh{} can be done in many different ways. If we poke around in the PILLOW documentation we find that one of}
        \PY{c+c1}{\PYZsh{} the easiest ways to do this is to use the convert() function and pass in the string \PYZsq{}L\PYZsq{}}
        \PY{n}{img} \PY{o}{=} \PY{n}{Image}\PY{o}{.}\PY{n}{open}\PY{p}{(}\PY{l+s+s1}{\PYZsq{}}\PY{l+s+s1}{readonly/Noisy\PYZus{}OCR.PNG}\PY{l+s+s1}{\PYZsq{}}\PY{p}{)}
        \PY{n}{img} \PY{o}{=} \PY{n}{img}\PY{o}{.}\PY{n}{convert}\PY{p}{(}\PY{l+s+s1}{\PYZsq{}}\PY{l+s+s1}{L}\PY{l+s+s1}{\PYZsq{}}\PY{p}{)}
        \PY{c+c1}{\PYZsh{} Now lets save that image}
        \PY{n}{img}\PY{o}{.}\PY{n}{save}\PY{p}{(}\PY{l+s+s1}{\PYZsq{}}\PY{l+s+s1}{greyscale\PYZus{}noise.jpg}\PY{l+s+s1}{\PYZsq{}}\PY{p}{)}
        \PY{c+c1}{\PYZsh{} And run OCR on the greyscale image}
        \PY{n}{text} \PY{o}{=} \PY{n}{pytesseract}\PY{o}{.}\PY{n}{image\PYZus{}to\PYZus{}string}\PY{p}{(}\PY{n}{Image}\PY{o}{.}\PY{n}{open}\PY{p}{(}\PY{l+s+s1}{\PYZsq{}}\PY{l+s+s1}{greyscale\PYZus{}noise.jpg}\PY{l+s+s1}{\PYZsq{}}\PY{p}{)}\PY{p}{)} 
        \PY{n+nb}{print}\PY{p}{(}\PY{n}{text}\PY{p}{)}
\end{Verbatim}

    \begin{Verbatim}[commandchars=\\\{\}]
{\color{incolor}In [{\color{incolor} }]:} \PY{c+c1}{\PYZsh{} Wow, that worked really well! If we look at the help documentation using the help function}
        \PY{c+c1}{\PYZsh{} as in help(img.convert) we see that the conversion mechanism is the ITU\PYZhy{}R 601\PYZhy{}2 luma transform.}
        \PY{c+c1}{\PYZsh{} There\PYZsq{}s more information about this out there, but this method essentially takes a three channel image,}
        \PY{c+c1}{\PYZsh{} where there is information for the amount of red, green, and blue (R, G, and B), and reduces it}
        \PY{c+c1}{\PYZsh{} to a single channel to represent luminosity. This method actually comes from how standard}
        \PY{c+c1}{\PYZsh{} definition television sets encoded color onto black and while images. If you get really interested}
        \PY{c+c1}{\PYZsh{} in image manipulation and recognition, learning about color spaces and how we represent color, both}
        \PY{c+c1}{\PYZsh{} computationally and through human perception, is really an interesting field.}
\end{Verbatim}

    \begin{Verbatim}[commandchars=\\\{\}]
{\color{incolor}In [{\color{incolor} }]:} \PY{c+c1}{\PYZsh{} Even though we have now the complete text of the image, there are a few other techniques}
        \PY{c+c1}{\PYZsh{} we could use to help improve OCR detection in the event that the above two don\PYZsq{}t help.}
        \PY{c+c1}{\PYZsh{} The next approach I would use is called binarization, which means to separate into two}
        \PY{c+c1}{\PYZsh{} distinct parts \PYZhy{} in this case, black and white. Binarization is enacted through a process }
        \PY{c+c1}{\PYZsh{} called thresholding. If a pixel value is greater than a threshold value, it will be converted}
        \PY{c+c1}{\PYZsh{} to a black pixel; if it is lower than the threshold it will be converted to a white pixel. }
        \PY{c+c1}{\PYZsh{} This process eliminates noise in the OCR process allowing greater image recognition accuracy. }
        \PY{c+c1}{\PYZsh{} With Pillow, this process is straightforward.}
        \PY{c+c1}{\PYZsh{} Lets open the noisy impage and convert it using binarization}
        \PY{n}{img} \PY{o}{=} \PY{n}{Image}\PY{o}{.}\PY{n}{open}\PY{p}{(}\PY{l+s+s1}{\PYZsq{}}\PY{l+s+s1}{readonly/Noisy\PYZus{}OCR.PNG}\PY{l+s+s1}{\PYZsq{}}\PY{p}{)}\PY{o}{.}\PY{n}{convert}\PY{p}{(}\PY{l+s+s1}{\PYZsq{}}\PY{l+s+s1}{1}\PY{l+s+s1}{\PYZsq{}}\PY{p}{)}
        \PY{c+c1}{\PYZsh{} Now lets save and display that image}
        \PY{n}{img}\PY{o}{.}\PY{n}{save}\PY{p}{(}\PY{l+s+s1}{\PYZsq{}}\PY{l+s+s1}{black\PYZus{}white\PYZus{}noise.jpg}\PY{l+s+s1}{\PYZsq{}}\PY{p}{)}
        \PY{n}{display}\PY{p}{(}\PY{n}{img}\PY{p}{)}
\end{Verbatim}

    \begin{Verbatim}[commandchars=\\\{\}]
{\color{incolor}In [{\color{incolor} }]:} \PY{c+c1}{\PYZsh{} So, that was a bit magical, and really required a fine reading of the docs to figure out}
        \PY{c+c1}{\PYZsh{} that the number \PYZdq{}1\PYZdq{} is a string parameter to the convert function actually does the binarization.}
        \PY{c+c1}{\PYZsh{} But you actually have all of the skills you need to write this functionality yourself.}
        \PY{c+c1}{\PYZsh{} Lets walk through an example. First, lets define a function called binarize, which takes in}
        \PY{c+c1}{\PYZsh{} an image and a threshold value:}
        \PY{k}{def} \PY{n+nf}{binarize}\PY{p}{(}\PY{n}{image\PYZus{}to\PYZus{}transform}\PY{p}{,} \PY{n}{threshold}\PY{p}{)}\PY{p}{:}
            \PY{c+c1}{\PYZsh{} now, lets convert that image to a single greyscale image using convert()}
            \PY{n}{output\PYZus{}image}\PY{o}{=}\PY{n}{image\PYZus{}to\PYZus{}transform}\PY{o}{.}\PY{n}{convert}\PY{p}{(}\PY{l+s+s2}{\PYZdq{}}\PY{l+s+s2}{L}\PY{l+s+s2}{\PYZdq{}}\PY{p}{)}
            \PY{c+c1}{\PYZsh{} the threshold value is usually provided as a number between 0 and 255, which}
            \PY{c+c1}{\PYZsh{} is the number of bits in a byte.}
            \PY{c+c1}{\PYZsh{} the algorithm for the binarization is pretty simple, go through every pixel in the}
            \PY{c+c1}{\PYZsh{} image and, if it\PYZsq{}s greater than the threshold, turn it all the way up (255), and}
            \PY{c+c1}{\PYZsh{} if it\PYZsq{}s lower than the threshold, turn it all the way down (0).}
            \PY{c+c1}{\PYZsh{} so lets write this in code. First, we need to iterate over all of the pixels in the}
            \PY{c+c1}{\PYZsh{} image we want to work with}
            \PY{k}{for} \PY{n}{x} \PY{o+ow}{in} \PY{n+nb}{range}\PY{p}{(}\PY{n}{output\PYZus{}image}\PY{o}{.}\PY{n}{width}\PY{p}{)}\PY{p}{:}
                \PY{k}{for} \PY{n}{y} \PY{o+ow}{in} \PY{n+nb}{range}\PY{p}{(}\PY{n}{output\PYZus{}image}\PY{o}{.}\PY{n}{height}\PY{p}{)}\PY{p}{:}
                    \PY{c+c1}{\PYZsh{} for the given pixel at w,h, lets check its value against the threshold}
                    \PY{k}{if} \PY{n}{output\PYZus{}image}\PY{o}{.}\PY{n}{getpixel}\PY{p}{(}\PY{p}{(}\PY{n}{x}\PY{p}{,}\PY{n}{y}\PY{p}{)}\PY{p}{)}\PY{o}{\PYZlt{}} \PY{n}{threshold}\PY{p}{:} \PY{c+c1}{\PYZsh{}note that the first parameter is actually a tuple object}
                        \PY{c+c1}{\PYZsh{} lets set this to zero}
                        \PY{n}{output\PYZus{}image}\PY{o}{.}\PY{n}{putpixel}\PY{p}{(} \PY{p}{(}\PY{n}{x}\PY{p}{,}\PY{n}{y}\PY{p}{)}\PY{p}{,} \PY{l+m+mi}{0} \PY{p}{)}
                    \PY{k}{else}\PY{p}{:}
                        \PY{c+c1}{\PYZsh{} otherwise lets set this to 255}
                        \PY{n}{output\PYZus{}image}\PY{o}{.}\PY{n}{putpixel}\PY{p}{(} \PY{p}{(}\PY{n}{x}\PY{p}{,}\PY{n}{y}\PY{p}{)}\PY{p}{,} \PY{l+m+mi}{255} \PY{p}{)}
            \PY{c+c1}{\PYZsh{}now we just return the new image}
            \PY{k}{return} \PY{n}{output\PYZus{}image}
        
        \PY{c+c1}{\PYZsh{} lets test this function over a range of different thresholds. Remember that you can use}
        \PY{c+c1}{\PYZsh{} the range() function to generate a list of numbers at different step sizes. range() is called}
        \PY{c+c1}{\PYZsh{} with a start, a stop, and a step size. So lets try range(0, 257, 64), which should generate 5}
        \PY{c+c1}{\PYZsh{} images of different threshold values}
        \PY{k}{for} \PY{n}{thresh} \PY{o+ow}{in} \PY{n+nb}{range}\PY{p}{(}\PY{l+m+mi}{0}\PY{p}{,}\PY{l+m+mi}{257}\PY{p}{,}\PY{l+m+mi}{64}\PY{p}{)}\PY{p}{:}
            \PY{n+nb}{print}\PY{p}{(}\PY{l+s+s2}{\PYZdq{}}\PY{l+s+s2}{Trying with threshold }\PY{l+s+s2}{\PYZdq{}} \PY{o}{+} \PY{n+nb}{str}\PY{p}{(}\PY{n}{thresh}\PY{p}{)}\PY{p}{)}
            \PY{c+c1}{\PYZsh{} Lets display the binarized image inline}
            \PY{n}{display}\PY{p}{(}\PY{n}{binarize}\PY{p}{(}\PY{n}{Image}\PY{o}{.}\PY{n}{open}\PY{p}{(}\PY{l+s+s1}{\PYZsq{}}\PY{l+s+s1}{readonly/Noisy\PYZus{}OCR.PNG}\PY{l+s+s1}{\PYZsq{}}\PY{p}{)}\PY{p}{,} \PY{n}{thresh}\PY{p}{)}\PY{p}{)}
            \PY{c+c1}{\PYZsh{} And lets use tesseract on it. It\PYZsq{}s inefficient to binarize it twice but this is just for}
            \PY{c+c1}{\PYZsh{} a demo}
            \PY{n+nb}{print}\PY{p}{(}\PY{n}{pytesseract}\PY{o}{.}\PY{n}{image\PYZus{}to\PYZus{}string}\PY{p}{(}\PY{n}{binarize}\PY{p}{(}\PY{n}{Image}\PY{o}{.}\PY{n}{open}\PY{p}{(}\PY{l+s+s1}{\PYZsq{}}\PY{l+s+s1}{readonly/Noisy\PYZus{}OCR.PNG}\PY{l+s+s1}{\PYZsq{}}\PY{p}{)}\PY{p}{,} \PY{n}{thresh}\PY{p}{)}\PY{p}{)}\PY{p}{)}
\end{Verbatim}

    \begin{Verbatim}[commandchars=\\\{\}]
{\color{incolor}In [{\color{incolor} }]:} \PY{c+c1}{\PYZsh{} We can see from this that a threshold of 0 essentially turns everything white,}
        \PY{c+c1}{\PYZsh{} that the text becomes more bold as we move towards a higher threshold, and that}
        \PY{c+c1}{\PYZsh{} the shapes, which have a filled in grey color, become more evident at higher}
        \PY{c+c1}{\PYZsh{} thresholds. In the next lecture we\PYZsq{}ll look a bit more at some of the challenges}
        \PY{c+c1}{\PYZsh{} you can expect when doing OCR on real data}
\end{Verbatim}

    \hypertarget{tesseract-and-photographs}{%
\subsection{Tesseract and Photographs}\label{tesseract-and-photographs}}

    \begin{Verbatim}[commandchars=\\\{\}]
{\color{incolor}In [{\color{incolor} }]:} \PY{c+c1}{\PYZsh{} Lets try a new example and bring together some of the things we have learned.}
        \PY{c+c1}{\PYZsh{} Here\PYZsq{}s an image of a storefront, lets load it and try and get the name of the}
        \PY{c+c1}{\PYZsh{} store out of the image}
        \PY{k+kn}{from} \PY{n+nn}{PIL} \PY{k}{import} \PY{n}{Image}
        \PY{k+kn}{import} \PY{n+nn}{pytesseract}
        \PY{c+c1}{\PYZsh{} Lets read in the storefront image I\PYZsq{}ve loaded into the course and display it}
        \PY{n}{image}\PY{o}{=}\PY{n}{Image}\PY{o}{.}\PY{n}{open}\PY{p}{(}\PY{l+s+s1}{\PYZsq{}}\PY{l+s+s1}{readonly/storefront.jpg}\PY{l+s+s1}{\PYZsq{}}\PY{p}{)}
        \PY{n}{display}\PY{p}{(}\PY{n}{image}\PY{p}{)}
        \PY{c+c1}{\PYZsh{} Finally, lets try and run tesseract on that image and see what the results are}
        \PY{n}{pytesseract}\PY{o}{.}\PY{n}{image\PYZus{}to\PYZus{}string}\PY{p}{(}\PY{n}{image}\PY{p}{)}
\end{Verbatim}

    \begin{Verbatim}[commandchars=\\\{\}]
{\color{incolor}In [{\color{incolor} }]:} \PY{c+c1}{\PYZsh{} We see at the very bottom there is just an empty string. Tesseract is unable to take}
        \PY{c+c1}{\PYZsh{} this image and pull out the name. But we learned how to crop the images in the}
        \PY{c+c1}{\PYZsh{} last set of lectures, so lets try and help Tesseract by cropping out certain pieces.}
        \PY{c+c1}{\PYZsh{}}
        \PY{c+c1}{\PYZsh{} First, lets set the bounding box. In this image the store name is in a box}
        \PY{c+c1}{\PYZsh{} bounded by (315, 170, 700, 270)}
        \PY{n}{bounding\PYZus{}box}\PY{o}{=}\PY{p}{(}\PY{l+m+mi}{315}\PY{p}{,} \PY{l+m+mi}{170}\PY{p}{,} \PY{l+m+mi}{700}\PY{p}{,} \PY{l+m+mi}{270}\PY{p}{)}
        
        \PY{c+c1}{\PYZsh{} Now lets crop the image}
        \PY{n}{title\PYZus{}image}\PY{o}{=}\PY{n}{image}\PY{o}{.}\PY{n}{crop}\PY{p}{(}\PY{n}{bounding\PYZus{}box}\PY{p}{)}
        
        \PY{c+c1}{\PYZsh{} Now lets display it and pull out the text}
        \PY{n}{display}\PY{p}{(}\PY{n}{title\PYZus{}image}\PY{p}{)}
        \PY{n}{pytesseract}\PY{o}{.}\PY{n}{image\PYZus{}to\PYZus{}string}\PY{p}{(}\PY{n}{title\PYZus{}image}\PY{p}{)}
\end{Verbatim}

    \begin{Verbatim}[commandchars=\\\{\}]
{\color{incolor}In [{\color{incolor} }]:} \PY{c+c1}{\PYZsh{} Great, we see how with a bit of a problem reduction we can make that work. So now we have}
        \PY{c+c1}{\PYZsh{} been able to take an image, preprocess it where we expect to see text, and turn that text}
        \PY{c+c1}{\PYZsh{} into a string that python can understand.}
        \PY{c+c1}{\PYZsh{}}
        \PY{c+c1}{\PYZsh{} If you look back up at the image though, you\PYZsq{}ll see there is a small sign inside of the}
        \PY{c+c1}{\PYZsh{} shop that also has the shop name on it. I wonder if we\PYZsq{}re able to recognize the text on }
        \PY{c+c1}{\PYZsh{} that sign? Let\PYZsq{}s give it a try.}
        \PY{c+c1}{\PYZsh{}}
        \PY{c+c1}{\PYZsh{} First, we need to determine a bounding box for that sign. I\PYZsq{}m going to show you a short\PYZhy{}cut}
        \PY{c+c1}{\PYZsh{} to make this easier in an optional video in this module, but for now lets just use the bounding}
        \PY{c+c1}{\PYZsh{} box I decided on}
        \PY{n}{bounding\PYZus{}box}\PY{o}{=}\PY{p}{(}\PY{l+m+mi}{900}\PY{p}{,} \PY{l+m+mi}{420}\PY{p}{,} \PY{l+m+mi}{940}\PY{p}{,} \PY{l+m+mi}{445}\PY{p}{)}
        
        \PY{c+c1}{\PYZsh{} Now, lets crop the image}
        \PY{n}{little\PYZus{}sign}\PY{o}{=}\PY{n}{image}\PY{o}{.}\PY{n}{crop}\PY{p}{(}\PY{p}{(}\PY{l+m+mi}{900}\PY{p}{,} \PY{l+m+mi}{420}\PY{p}{,} \PY{l+m+mi}{940}\PY{p}{,} \PY{l+m+mi}{445}\PY{p}{)}\PY{p}{)}
        \PY{n}{display}\PY{p}{(}\PY{n}{little\PYZus{}sign}\PY{p}{)}
\end{Verbatim}

    \begin{Verbatim}[commandchars=\\\{\}]
{\color{incolor}In [{\color{incolor} }]:} \PY{c+c1}{\PYZsh{} All right, that is a little sign! OCR works better with higher resolution images, so}
        \PY{c+c1}{\PYZsh{} lets increase the size of this image by using the pillow resize() function}
        \PY{c+c1}{\PYZsh{} Lets set the width and height equal to ten times the size it is now in a (w,h) tuple}
        \PY{n}{new\PYZus{}size}\PY{o}{=}\PY{p}{(}\PY{n}{little\PYZus{}sign}\PY{o}{.}\PY{n}{width}\PY{o}{*}\PY{l+m+mi}{10}\PY{p}{,}\PY{n}{little\PYZus{}sign}\PY{o}{.}\PY{n}{height}\PY{o}{*}\PY{l+m+mi}{10}\PY{p}{)}
        
        \PY{c+c1}{\PYZsh{} Now lets check the docs for resize()}
        \PY{n}{help}\PY{p}{(}\PY{n}{little\PYZus{}sign}\PY{o}{.}\PY{n}{resize}\PY{p}{)}
\end{Verbatim}

    \begin{Verbatim}[commandchars=\\\{\}]
{\color{incolor}In [{\color{incolor} }]:} \PY{c+c1}{\PYZsh{} We can see that there are a number of different filters for resizing the image. The}
        \PY{c+c1}{\PYZsh{} default is Image.NEAREST. Lets see what that looks like}
        \PY{n}{display}\PY{p}{(}\PY{n}{little\PYZus{}sign}\PY{o}{.}\PY{n}{resize}\PY{p}{(} \PY{n}{new\PYZus{}size}\PY{p}{,} \PY{n}{Image}\PY{o}{.}\PY{n}{NEAREST}\PY{p}{)}\PY{p}{)}
\end{Verbatim}

    \begin{Verbatim}[commandchars=\\\{\}]
{\color{incolor}In [{\color{incolor} }]:} \PY{c+c1}{\PYZsh{} I think we should be able to find something better. I can read it, but it looks}
        \PY{c+c1}{\PYZsh{} really pixelated. Lets see what all the different resize options look like}
        \PY{n}{options}\PY{o}{=}\PY{p}{[}\PY{n}{Image}\PY{o}{.}\PY{n}{NEAREST}\PY{p}{,} \PY{n}{Image}\PY{o}{.}\PY{n}{BOX}\PY{p}{,} \PY{n}{Image}\PY{o}{.}\PY{n}{BILINEAR}\PY{p}{,} \PY{n}{Image}\PY{o}{.}\PY{n}{HAMMING}\PY{p}{,} \PY{n}{Image}\PY{o}{.}\PY{n}{BICUBIC}\PY{p}{,} \PY{n}{Image}\PY{o}{.}\PY{n}{LANCZOS}\PY{p}{]}
        \PY{k}{for} \PY{n}{option} \PY{o+ow}{in} \PY{n}{options}\PY{p}{:}
            \PY{c+c1}{\PYZsh{} lets print the option name}
            \PY{n+nb}{print}\PY{p}{(}\PY{n}{option}\PY{p}{)}
            \PY{c+c1}{\PYZsh{} lets display what this option looks like on our little sign}
            \PY{n}{display}\PY{p}{(}\PY{n}{little\PYZus{}sign}\PY{o}{.}\PY{n}{resize}\PY{p}{(} \PY{n}{new\PYZus{}size}\PY{p}{,} \PY{n}{option}\PY{p}{)}\PY{p}{)}
\end{Verbatim}

    \begin{Verbatim}[commandchars=\\\{\}]
{\color{incolor}In [{\color{incolor} }]:} \PY{c+c1}{\PYZsh{} From this we can notice two things. First, when we print out one of the resampling}
        \PY{c+c1}{\PYZsh{} values it actually just prints an integer! This is really common: that the}
        \PY{c+c1}{\PYZsh{} API developer writes a property, such as Image.BICUBIC, and then assigns it to an}
        \PY{c+c1}{\PYZsh{} integer value to pass it around. Some languages use enumerations of values, which is}
        \PY{c+c1}{\PYZsh{} common in say, Java, but in python this is a pretty normal way of doing things.}
        \PY{c+c1}{\PYZsh{} The second thing we learned is that there are a number of different algorithms for}
        \PY{c+c1}{\PYZsh{} image resampling. In this case, the Image.LANCZOS and Image.BICUBIC filters do a good}
        \PY{c+c1}{\PYZsh{} job. Lets see if we are able to recognize the text off of this resized image}
        
        \PY{c+c1}{\PYZsh{} First lets resize to the larger size}
        \PY{n}{bigger\PYZus{}sign}\PY{o}{=}\PY{n}{little\PYZus{}sign}\PY{o}{.}\PY{n}{resize}\PY{p}{(}\PY{n}{new\PYZus{}size}\PY{p}{,} \PY{n}{Image}\PY{o}{.}\PY{n}{BICUBIC}\PY{p}{)}
        \PY{c+c1}{\PYZsh{} Lets print out the text}
        \PY{n}{pytesseract}\PY{o}{.}\PY{n}{image\PYZus{}to\PYZus{}string}\PY{p}{(}\PY{n}{bigger\PYZus{}sign}\PY{p}{)}
\end{Verbatim}

    \begin{Verbatim}[commandchars=\\\{\}]
{\color{incolor}In [{\color{incolor} }]:} \PY{c+c1}{\PYZsh{} Well, no text there. Lets try and binarize this. First, let me just bring in the}
        \PY{c+c1}{\PYZsh{} binarization code we did earlier}
        \PY{k}{def} \PY{n+nf}{binarize}\PY{p}{(}\PY{n}{image\PYZus{}to\PYZus{}transform}\PY{p}{,} \PY{n}{threshold}\PY{p}{)}\PY{p}{:}
            \PY{n}{output\PYZus{}image}\PY{o}{=}\PY{n}{image\PYZus{}to\PYZus{}transform}\PY{o}{.}\PY{n}{convert}\PY{p}{(}\PY{l+s+s2}{\PYZdq{}}\PY{l+s+s2}{L}\PY{l+s+s2}{\PYZdq{}}\PY{p}{)}
            \PY{k}{for} \PY{n}{x} \PY{o+ow}{in} \PY{n+nb}{range}\PY{p}{(}\PY{n}{output\PYZus{}image}\PY{o}{.}\PY{n}{width}\PY{p}{)}\PY{p}{:}
                \PY{k}{for} \PY{n}{y} \PY{o+ow}{in} \PY{n+nb}{range}\PY{p}{(}\PY{n}{output\PYZus{}image}\PY{o}{.}\PY{n}{height}\PY{p}{)}\PY{p}{:}
                    \PY{k}{if} \PY{n}{output\PYZus{}image}\PY{o}{.}\PY{n}{getpixel}\PY{p}{(}\PY{p}{(}\PY{n}{x}\PY{p}{,}\PY{n}{y}\PY{p}{)}\PY{p}{)}\PY{o}{\PYZlt{}} \PY{n}{threshold}\PY{p}{:}
                        \PY{n}{output\PYZus{}image}\PY{o}{.}\PY{n}{putpixel}\PY{p}{(} \PY{p}{(}\PY{n}{x}\PY{p}{,}\PY{n}{y}\PY{p}{)}\PY{p}{,} \PY{l+m+mi}{0} \PY{p}{)}
                    \PY{k}{else}\PY{p}{:}
                        \PY{n}{output\PYZus{}image}\PY{o}{.}\PY{n}{putpixel}\PY{p}{(} \PY{p}{(}\PY{n}{x}\PY{p}{,}\PY{n}{y}\PY{p}{)}\PY{p}{,} \PY{l+m+mi}{255} \PY{p}{)}
            \PY{k}{return} \PY{n}{output\PYZus{}image}
        
        \PY{c+c1}{\PYZsh{} Now, lets apply binarizations with, say, a threshold of 190, and try and display that}
        \PY{c+c1}{\PYZsh{} as well as do the OCR work}
        \PY{n}{binarized\PYZus{}bigger\PYZus{}sign}\PY{o}{=}\PY{n}{binarize}\PY{p}{(}\PY{n}{bigger\PYZus{}sign}\PY{p}{,} \PY{l+m+mi}{190}\PY{p}{)}
        \PY{n}{display}\PY{p}{(}\PY{n}{binarized\PYZus{}bigger\PYZus{}sign}\PY{p}{)}
        \PY{n}{pytesseract}\PY{o}{.}\PY{n}{image\PYZus{}to\PYZus{}string}\PY{p}{(}\PY{n}{binarized\PYZus{}bigger\PYZus{}sign}\PY{p}{)}
\end{Verbatim}

    \begin{Verbatim}[commandchars=\\\{\}]
{\color{incolor}In [{\color{incolor} }]:} \PY{c+c1}{\PYZsh{} Ok, that text is pretty useless. How should we pick the best binarization}
        \PY{c+c1}{\PYZsh{} to use? Well, there are some methods, but lets just try something very simple to}
        \PY{c+c1}{\PYZsh{} show how well this can work. We have an english word we are trying to detect, \PYZdq{}FOSSIL\PYZdq{}.}
        \PY{c+c1}{\PYZsh{} If we tried all binarizations, from 0 through 255, and looked to see if there were}
        \PY{c+c1}{\PYZsh{} any english words in that list, this might be one way. So lets see if we can}
        \PY{c+c1}{\PYZsh{} write a routine to do this.}
        \PY{c+c1}{\PYZsh{}}
        \PY{c+c1}{\PYZsh{} First, lets load a list of english words into a list. I put a copy in the readonly}
        \PY{c+c1}{\PYZsh{} directory for you to work with}
        \PY{n}{eng\PYZus{}dict}\PY{o}{=}\PY{p}{[}\PY{p}{]}
        \PY{k}{with} \PY{n+nb}{open} \PY{p}{(}\PY{l+s+s2}{\PYZdq{}}\PY{l+s+s2}{readonly/words\PYZus{}alpha.txt}\PY{l+s+s2}{\PYZdq{}}\PY{p}{,} \PY{l+s+s2}{\PYZdq{}}\PY{l+s+s2}{r}\PY{l+s+s2}{\PYZdq{}}\PY{p}{)} \PY{k}{as} \PY{n}{f}\PY{p}{:}
            \PY{n}{data}\PY{o}{=}\PY{n}{f}\PY{o}{.}\PY{n}{read}\PY{p}{(}\PY{p}{)}
            \PY{c+c1}{\PYZsh{} now we want to split this into a list based on the new line characters}
            \PY{n}{eng\PYZus{}dict}\PY{o}{=}\PY{n}{data}\PY{o}{.}\PY{n}{split}\PY{p}{(}\PY{l+s+s2}{\PYZdq{}}\PY{l+s+se}{\PYZbs{}n}\PY{l+s+s2}{\PYZdq{}}\PY{p}{)}
        
        \PY{c+c1}{\PYZsh{} Now lets iterate through all possible thresholds and look for an english word, printing}
        \PY{c+c1}{\PYZsh{} it out if it exists}
        \PY{k}{for} \PY{n}{i} \PY{o+ow}{in} \PY{n+nb}{range}\PY{p}{(}\PY{l+m+mi}{150}\PY{p}{,}\PY{l+m+mi}{170}\PY{p}{)}\PY{p}{:}
            \PY{c+c1}{\PYZsh{} lets binarize and convert this to s tring values}
            \PY{n}{strng}\PY{o}{=}\PY{n}{pytesseract}\PY{o}{.}\PY{n}{image\PYZus{}to\PYZus{}string}\PY{p}{(}\PY{n}{binarize}\PY{p}{(}\PY{n}{bigger\PYZus{}sign}\PY{p}{,}\PY{n}{i}\PY{p}{)}\PY{p}{)}
            \PY{c+c1}{\PYZsh{} We want to remove non alphabetical characters, like ([\PYZpc{}\PYZdl{}]) from the text, here\PYZsq{}s}
            \PY{c+c1}{\PYZsh{} a short method to do that}
            \PY{c+c1}{\PYZsh{} first, lets convert our string to lower case only}
            \PY{n}{strng}\PY{o}{=}\PY{n}{strng}\PY{o}{.}\PY{n}{lower}\PY{p}{(}\PY{p}{)}
            \PY{c+c1}{\PYZsh{} then lets import the string package \PYZhy{} it has a nice list of lower case letters}
            \PY{k+kn}{import} \PY{n+nn}{string}
            \PY{c+c1}{\PYZsh{} now lets iterate over our string looking at it character by character, putting it in}
            \PY{c+c1}{\PYZsh{} the comaprison text}
            \PY{n}{comparison}\PY{o}{=}\PY{l+s+s1}{\PYZsq{}}\PY{l+s+s1}{\PYZsq{}}
            \PY{k}{for} \PY{n}{character} \PY{o+ow}{in} \PY{n}{strng}\PY{p}{:}
                \PY{k}{if} \PY{n}{character} \PY{o+ow}{in} \PY{n}{string}\PY{o}{.}\PY{n}{ascii\PYZus{}lowercase}\PY{p}{:}
                    \PY{n}{comparison}\PY{o}{=}\PY{n}{comparison}\PY{o}{+}\PY{n}{character}
            \PY{c+c1}{\PYZsh{} finally, lets search for comparison in the dictionary file}
            \PY{k}{if} \PY{n}{comparison} \PY{o+ow}{in} \PY{n}{eng\PYZus{}dict}\PY{p}{:}
                \PY{c+c1}{\PYZsh{} and print it if we find it}
                \PY{n+nb}{print}\PY{p}{(}\PY{n}{comparison}\PY{p}{)}
\end{Verbatim}

    \begin{Verbatim}[commandchars=\\\{\}]
{\color{incolor}In [{\color{incolor} }]:} \PY{c+c1}{\PYZsh{} Well, not perfect, but we see fossil there among other values which are in the dictionary.}
        \PY{c+c1}{\PYZsh{} This is not a bad way to clean up OCR data. It can useful to use a language or domain specific }
        \PY{c+c1}{\PYZsh{} dictionary in practice, especially if you are generating a search engine for specialized language}
        \PY{c+c1}{\PYZsh{} such as a medical knowledge base or locations. And if you scroll up and look at the data}
        \PY{c+c1}{\PYZsh{} we were working with \PYZhy{} this small little wall hanging on the inside of the store \PYZhy{} it\PYZsq{}s not}
        \PY{c+c1}{\PYZsh{} so bad.}
        \PY{c+c1}{\PYZsh{}}
        \PY{c+c1}{\PYZsh{} At this point you\PYZsq{}ve now learned how to manipulate images and convert them into text. In the}
        \PY{c+c1}{\PYZsh{} next module in this course we\PYZsq{}re going to dig deeper further into a computer vision library}
        \PY{c+c1}{\PYZsh{} which allows us to detect faces among other things. Then, on to the culminating project!}
\end{Verbatim}

    \hypertarget{jupyter-widgets-optional}{%
\subsection{Jupyter Widgets (Optional)}\label{jupyter-widgets-optional}}

    \begin{Verbatim}[commandchars=\\\{\}]
{\color{incolor}In [{\color{incolor} }]:} \PY{c+c1}{\PYZsh{} In this brief lecture I want to introduce you to one of the more advanced features of the }
        \PY{c+c1}{\PYZsh{} Jupyter notebook development environment called widgets. Sometimes you want}
        \PY{c+c1}{\PYZsh{} to interact with a function you have created and call it multiple times with different}
        \PY{c+c1}{\PYZsh{} parameters. For instance, if we wanted to draw a red box around a portion of an}
        \PY{c+c1}{\PYZsh{} image to try and fine tune the crop location. Widgets are one way to do this quickly}
        \PY{c+c1}{\PYZsh{} in the browser without having to learn how to write a large desktop application.}
        \PY{c+c1}{\PYZsh{}}
        \PY{c+c1}{\PYZsh{} Lets check it out. First we want to import the Image and ImageDraw classes from the}
        \PY{c+c1}{\PYZsh{} PILLOW package}
        \PY{k+kn}{from} \PY{n+nn}{PIL} \PY{k}{import} \PY{n}{Image}\PY{p}{,} \PY{n}{ImageDraw}
        
        \PY{c+c1}{\PYZsh{} Then we want to import the interact class from the widgets package}
        \PY{k+kn}{from} \PY{n+nn}{ipywidgets} \PY{k}{import} \PY{n}{interact}
        
        \PY{c+c1}{\PYZsh{} We will use interact to annotate a function. Lets bring in an image that we know we }
        \PY{c+c1}{\PYZsh{} are interested in, like the storefront image from a previous lecture}
        \PY{n}{image}\PY{o}{=}\PY{n}{Image}\PY{o}{.}\PY{n}{open}\PY{p}{(}\PY{l+s+s1}{\PYZsq{}}\PY{l+s+s1}{readonly/storefront.jpg}\PY{l+s+s1}{\PYZsq{}}\PY{p}{)}
        
        \PY{c+c1}{\PYZsh{} Ok, our setup is done. Now we\PYZsq{}re going to use the interact decorator to indicate}
        \PY{c+c1}{\PYZsh{} that we want to wrap the python function. We do this using the @ sign. This will}
        \PY{c+c1}{\PYZsh{} take a set of parameters which are identical to the function to be called. Then Jupyter}
        \PY{c+c1}{\PYZsh{} will draw some sliders on the screen to let us manipulate these values. Decorators,}
        \PY{c+c1}{\PYZsh{} which is what the @ sign is describing, are standard python statements and just a}
        \PY{c+c1}{\PYZsh{} short hand for functions which wrap other functions. They are a bit advanced though, so}
        \PY{c+c1}{\PYZsh{} we haven\PYZsq{}t talked about them in this course, and you might just have to have some faith}
        \PY{n+nd}{@interact}\PY{p}{(}\PY{n}{left}\PY{o}{=}\PY{l+m+mi}{100}\PY{p}{,} \PY{n}{top}\PY{o}{=}\PY{l+m+mi}{100}\PY{p}{,} \PY{n}{right}\PY{o}{=}\PY{l+m+mi}{200}\PY{p}{,} \PY{n}{bottom}\PY{o}{=}\PY{l+m+mi}{200}\PY{p}{)}
        
        \PY{c+c1}{\PYZsh{} Now we just write the function we had before}
        \PY{k}{def} \PY{n+nf}{draw\PYZus{}border}\PY{p}{(}\PY{n}{left}\PY{p}{,} \PY{n}{top}\PY{p}{,} \PY{n}{right}\PY{p}{,} \PY{n}{bottom}\PY{p}{)}\PY{p}{:}
            \PY{n}{img}\PY{o}{=}\PY{n}{image}\PY{o}{.}\PY{n}{copy}\PY{p}{(}\PY{p}{)}
            \PY{n}{drawing\PYZus{}object}\PY{o}{=}\PY{n}{ImageDraw}\PY{o}{.}\PY{n}{Draw}\PY{p}{(}\PY{n}{img}\PY{p}{)}
            \PY{n}{drawing\PYZus{}object}\PY{o}{.}\PY{n}{rectangle}\PY{p}{(}\PY{p}{(}\PY{n}{left}\PY{p}{,}\PY{n}{top}\PY{p}{,}\PY{n}{right}\PY{p}{,}\PY{n}{bottom}\PY{p}{)}\PY{p}{,} \PY{n}{fill} \PY{o}{=} \PY{k+kc}{None}\PY{p}{,} \PY{n}{outline} \PY{o}{=}\PY{l+s+s1}{\PYZsq{}}\PY{l+s+s1}{red}\PY{l+s+s1}{\PYZsq{}}\PY{p}{)}
            \PY{n}{display}\PY{p}{(}\PY{n}{img}\PY{p}{)}
\end{Verbatim}

    \begin{Verbatim}[commandchars=\\\{\}]
{\color{incolor}In [{\color{incolor} }]:} \PY{c+c1}{\PYZsh{} Jupyter widgets is certainly advanced territory, but if you would like}
        \PY{c+c1}{\PYZsh{} to explore more you can read about what is available here: }
        \PY{c+c1}{\PYZsh{} https://ipywidgets.readthedocs.io/en/stable/examples/Using\PYZpc{}20Interact.html}
\end{Verbatim}


    % Add a bibliography block to the postdoc
    
    
    
    \end{document}
