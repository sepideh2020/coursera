{
 "cells": [
  {
   "cell_type": "code",
   "execution_count": null,
   "id": "02f67da6",
   "metadata": {},
   "outputs": [],
   "source": [
    "import PIL\n",
    "from PIL import Image\n",
    "from PIL import ImageEnhance\n",
    "from PIL import ImageFont, ImageDraw\n",
    "# read image and convert to RGB\n",
    "image=Image.open(\"readonly/msi_recruitment.gif\")\n",
    "image=image.convert('RGB')\n",
    "# build a list of 9 images which have different color\n",
    "images=[]\n",
    "lables=[]\n",
    "for i in range(3):\n",
    "    for j in (0.1,0.5,0.9):\n",
    "        source = image.split()\n",
    "        mid = source[i].point(lambda x:x*j)\n",
    "        source[i].paste(mid)\n",
    "        im = Image.merge(image.mode, source)\n",
    "        lables.append('channel {} intensity {}'.format(i,j))\n",
    "        images.append(im)\n",
    "font = ImageFont.truetype(\"readonly/fanwood-webfont.ttf\",75)\n",
    "# create a contact sheet from different color\n",
    "first_image=images[0]\n",
    "contact_sheet=PIL.Image.new(first_image.mode, (first_image.width*3,first_image.height*3+3*85))\n",
    "x=0\n",
    "y=0\n",
    "draw = ImageDraw.Draw(contact_sheet)\n",
    "for i,img in enumerate(images):\n",
    "    # Lets paste the current image into the contact sheet\n",
    "    contact_sheet.paste(img, (x, y) )\n",
    "    draw.text((x,y+first_image.height+5), lables[i], font=font)\n",
    "    # Now we update our X position. If it is going to be the width of the image, then we set it to 0\n",
    "    # and update Y as well to point to the next \"line\" of the contact sheet.\n",
    "    if x+first_image.width == contact_sheet.width:\n",
    "        x=0\n",
    "        y=y+first_image.height+85\n",
    "    else:\n",
    "        x=x+first_image.width\n",
    "\n",
    "# resize and display the contact sheet\n",
    "contact_sheet = contact_sheet.resize((int(contact_sheet.width/2),int(contact_sheet.height/2) ))\n",
    "display(contact_sheet)"
   ]
  }
 ],
 "metadata": {
  "kernelspec": {
   "display_name": "Python 3",
   "language": "python",
   "name": "python3"
  },
  "language_info": {
   "codemirror_mode": {
    "name": "ipython",
    "version": 3
   },
   "file_extension": ".py",
   "mimetype": "text/x-python",
   "name": "python",
   "nbconvert_exporter": "python",
   "pygments_lexer": "ipython3",
   "version": "3.8.8"
  }
 },
 "nbformat": 4,
 "nbformat_minor": 5
}
